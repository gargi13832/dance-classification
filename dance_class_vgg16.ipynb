{
  "nbformat": 4,
  "nbformat_minor": 0,
  "metadata": {
    "colab": {
      "name": "dance_class_vgg16.ipynb",
      "provenance": []
    },
    "kernelspec": {
      "name": "python3",
      "display_name": "Python 3"
    },
    "accelerator": "GPU"
  },
  "cells": [
    {
      "cell_type": "code",
      "metadata": {
        "id": "tk0duesHfFNC",
        "colab_type": "code",
        "colab": {}
      },
      "source": [
        "from tensorflow.keras.applications.vgg16 import VGG16"
      ],
      "execution_count": 0,
      "outputs": []
    },
    {
      "cell_type": "code",
      "metadata": {
        "id": "ciTzZa04fkw6",
        "colab_type": "code",
        "colab": {}
      },
      "source": [
        "pre_trained_model = VGG16(include_top = False,\n",
        "                            input_shape = (156,156,3),\n",
        "                            weights = 'imagenet')"
      ],
      "execution_count": 0,
      "outputs": []
    },
    {
      "cell_type": "code",
      "metadata": {
        "id": "j8l5q3JQfo2X",
        "colab_type": "code",
        "colab": {
          "base_uri": "https://localhost:8080/",
          "height": 1000
        },
        "outputId": "b1bb2fe0-b876-4c85-a227-6ca82218f15b"
      },
      "source": [
        "import numpy as np # linear algebra\n",
        "import pandas as pd # data processing, CSV file I/O (e.g. pd.read_csv)\n",
        "\n",
        "# Input data files are available in the read-only \"../input/\" directory\n",
        "# For example, running this (by clicking run or pressing Shift+Enter) will list all files under the input directory\n",
        "\n",
        "import os\n",
        "for dirname, _, filenames in os.walk('/content/sample_data'):\n",
        "    for filename in filenames:\n",
        "        print(os.path.join(dirname, filename))"
      ],
      "execution_count": 5,
      "outputs": [
        {
          "output_type": "stream",
          "text": [
            "/content/sample_data/test.csv\n",
            "/content/sample_data/train.csv\n",
            "/content/sample_data/test/59.jpg\n",
            "/content/sample_data/test/232.jpg\n",
            "/content/sample_data/test/194.jpg\n",
            "/content/sample_data/test/410.jpg\n",
            "/content/sample_data/test/437.jpg\n",
            "/content/sample_data/test/346.jpg\n",
            "/content/sample_data/test/129.jpg\n",
            "/content/sample_data/test/448.jpg\n",
            "/content/sample_data/test/360.jpg\n",
            "/content/sample_data/test/508.jpg\n",
            "/content/sample_data/test/416.jpg\n",
            "/content/sample_data/test/269.jpg\n",
            "/content/sample_data/test/349.jpg\n",
            "/content/sample_data/test/256.jpg\n",
            "/content/sample_data/test/518.jpg\n",
            "/content/sample_data/test/290.jpg\n",
            "/content/sample_data/test/479.jpg\n",
            "/content/sample_data/test/373.jpg\n",
            "/content/sample_data/test/286.jpg\n",
            "/content/sample_data/test/414.jpg\n",
            "/content/sample_data/test/411.jpg\n",
            "/content/sample_data/test/196.jpg\n",
            "/content/sample_data/test/239.jpg\n",
            "/content/sample_data/test/189.jpg\n",
            "/content/sample_data/test/520.jpg\n",
            "/content/sample_data/test/429.jpg\n",
            "/content/sample_data/test/220.jpg\n",
            "/content/sample_data/test/97.jpg\n",
            "/content/sample_data/test/138.jpg\n",
            "/content/sample_data/test/210.jpg\n",
            "/content/sample_data/test/175.jpg\n",
            "/content/sample_data/test/193.jpg\n",
            "/content/sample_data/test/61.jpg\n",
            "/content/sample_data/test/20.jpg\n",
            "/content/sample_data/test/11.jpg\n",
            "/content/sample_data/test/114.jpg\n",
            "/content/sample_data/test/421.jpg\n",
            "/content/sample_data/test/323.jpg\n",
            "/content/sample_data/test/38.jpg\n",
            "/content/sample_data/test/198.jpg\n",
            "/content/sample_data/test/86.jpg\n",
            "/content/sample_data/test/202.jpg\n",
            "/content/sample_data/test/152.jpg\n",
            "/content/sample_data/test/292.jpg\n",
            "/content/sample_data/test/306.jpg\n",
            "/content/sample_data/test/401.jpg\n",
            "/content/sample_data/test/498.jpg\n",
            "/content/sample_data/test/506.jpg\n",
            "/content/sample_data/test/71.jpg\n",
            "/content/sample_data/test/330.jpg\n",
            "/content/sample_data/test/95.jpg\n",
            "/content/sample_data/test/112.jpg\n",
            "/content/sample_data/test/324.jpg\n",
            "/content/sample_data/test/157.jpg\n",
            "/content/sample_data/test/441.jpg\n",
            "/content/sample_data/test/17.jpg\n",
            "/content/sample_data/test/358.jpg\n",
            "/content/sample_data/test/378.jpg\n",
            "/content/sample_data/test/460.jpg\n",
            "/content/sample_data/test/146.jpg\n",
            "/content/sample_data/test/9.jpg\n",
            "/content/sample_data/test/301.jpg\n",
            "/content/sample_data/test/119.jpg\n",
            "/content/sample_data/test/374.jpg\n",
            "/content/sample_data/test/440.jpg\n",
            "/content/sample_data/test/470.jpg\n",
            "/content/sample_data/test/394.jpg\n",
            "/content/sample_data/test/316.jpg\n",
            "/content/sample_data/test/398.jpg\n",
            "/content/sample_data/test/467.jpg\n",
            "/content/sample_data/test/363.jpg\n",
            "/content/sample_data/test/366.jpg\n",
            "/content/sample_data/test/431.jpg\n",
            "/content/sample_data/test/170.jpg\n",
            "/content/sample_data/test/461.jpg\n",
            "/content/sample_data/test/215.jpg\n",
            "/content/sample_data/test/224.jpg\n",
            "/content/sample_data/test/270.jpg\n",
            "/content/sample_data/test/473.jpg\n",
            "/content/sample_data/test/507.jpg\n",
            "/content/sample_data/test/463.jpg\n",
            "/content/sample_data/test/302.jpg\n",
            "/content/sample_data/test/283.jpg\n",
            "/content/sample_data/test/28.jpg\n",
            "/content/sample_data/test/238.jpg\n",
            "/content/sample_data/test/517.jpg\n",
            "/content/sample_data/test/23.jpg\n",
            "/content/sample_data/test/380.jpg\n",
            "/content/sample_data/test/173.jpg\n",
            "/content/sample_data/test/183.jpg\n",
            "/content/sample_data/test/171.jpg\n",
            "/content/sample_data/test/57.jpg\n",
            "/content/sample_data/test/41.jpg\n",
            "/content/sample_data/test/392.jpg\n",
            "/content/sample_data/test/447.jpg\n",
            "/content/sample_data/test/147.jpg\n",
            "/content/sample_data/test/439.jpg\n",
            "/content/sample_data/test/271.jpg\n",
            "/content/sample_data/test/456.jpg\n",
            "/content/sample_data/test/485.jpg\n",
            "/content/sample_data/test/34.jpg\n",
            "/content/sample_data/test/487.jpg\n",
            "/content/sample_data/test/385.jpg\n",
            "/content/sample_data/test/35.jpg\n",
            "/content/sample_data/test/318.jpg\n",
            "/content/sample_data/test/150.jpg\n",
            "/content/sample_data/test/80.jpg\n",
            "/content/sample_data/test/278.jpg\n",
            "/content/sample_data/test/375.jpg\n",
            "/content/sample_data/test/354.jpg\n",
            "/content/sample_data/test/226.jpg\n",
            "/content/sample_data/test/55.jpg\n",
            "/content/sample_data/test/458.jpg\n",
            "/content/sample_data/test/14.jpg\n",
            "/content/sample_data/test/67.jpg\n",
            "/content/sample_data/test/132.jpg\n",
            "/content/sample_data/test/291.jpg\n",
            "/content/sample_data/test/438.jpg\n",
            "/content/sample_data/test/275.jpg\n",
            "/content/sample_data/test/465.jpg\n",
            "/content/sample_data/test/280.jpg\n",
            "/content/sample_data/test/246.jpg\n",
            "/content/sample_data/test/145.jpg\n",
            "/content/sample_data/test/206.jpg\n",
            "/content/sample_data/test/484.jpg\n",
            "/content/sample_data/test/6.jpg\n",
            "/content/sample_data/test/110.jpg\n",
            "/content/sample_data/test/390.jpg\n",
            "/content/sample_data/test/216.jpg\n",
            "/content/sample_data/test/285.jpg\n",
            "/content/sample_data/test/125.jpg\n",
            "/content/sample_data/test/495.jpg\n",
            "/content/sample_data/test/13.jpg\n",
            "/content/sample_data/test/217.jpg\n",
            "/content/sample_data/test/264.jpg\n",
            "/content/sample_data/test/505.jpg\n",
            "/content/sample_data/test/92.jpg\n",
            "/content/sample_data/test/40.jpg\n",
            "/content/sample_data/test/424.jpg\n",
            "/content/sample_data/test/162.jpg\n",
            "/content/sample_data/test/128.jpg\n",
            "/content/sample_data/test/317.jpg\n",
            "/content/sample_data/test/332.jpg\n",
            "/content/sample_data/test/482.jpg\n",
            "/content/sample_data/test/514.jpg\n",
            "/content/sample_data/test/45.jpg\n",
            "/content/sample_data/test/510.jpg\n",
            "/content/sample_data/test/108.jpg\n",
            "/content/sample_data/test/340.jpg\n",
            "/content/sample_data/test/200.jpg\n",
            "/content/sample_data/test/386.jpg\n",
            "/content/sample_data/test/457.jpg\n",
            "/content/sample_data/test/64.jpg\n",
            "/content/sample_data/test/48.jpg\n",
            "/content/sample_data/test/33.jpg\n",
            "/content/sample_data/test/284.jpg\n",
            "/content/sample_data/train/384.jpg\n",
            "/content/sample_data/train/257.jpg\n",
            "/content/sample_data/train/389.jpg\n",
            "/content/sample_data/train/31.jpg\n",
            "/content/sample_data/train/418.jpg\n",
            "/content/sample_data/train/407.jpg\n",
            "/content/sample_data/train/188.jpg\n",
            "/content/sample_data/train/127.jpg\n",
            "/content/sample_data/train/184.jpg\n",
            "/content/sample_data/train/179.jpg\n",
            "/content/sample_data/train/417.jpg\n",
            "/content/sample_data/train/459.jpg\n",
            "/content/sample_data/train/158.jpg\n",
            "/content/sample_data/train/295.jpg\n",
            "/content/sample_data/train/130.jpg\n",
            "/content/sample_data/train/168.jpg\n",
            "/content/sample_data/train/361.jpg\n",
            "/content/sample_data/train/282.jpg\n",
            "/content/sample_data/train/123.jpg\n",
            "/content/sample_data/train/15.jpg\n",
            "/content/sample_data/train/159.jpg\n",
            "/content/sample_data/train/37.jpg\n",
            "/content/sample_data/train/117.jpg\n",
            "/content/sample_data/train/51.jpg\n",
            "/content/sample_data/train/263.jpg\n",
            "/content/sample_data/train/207.jpg\n",
            "/content/sample_data/train/357.jpg\n",
            "/content/sample_data/train/195.jpg\n",
            "/content/sample_data/train/30.jpg\n",
            "/content/sample_data/train/24.jpg\n",
            "/content/sample_data/train/4.jpg\n",
            "/content/sample_data/train/327.jpg\n",
            "/content/sample_data/train/452.jpg\n",
            "/content/sample_data/train/274.jpg\n",
            "/content/sample_data/train/387.jpg\n",
            "/content/sample_data/train/247.jpg\n",
            "/content/sample_data/train/376.jpg\n",
            "/content/sample_data/train/237.jpg\n",
            "/content/sample_data/train/333.jpg\n",
            "/content/sample_data/train/297.jpg\n",
            "/content/sample_data/train/348.jpg\n",
            "/content/sample_data/train/185.jpg\n",
            "/content/sample_data/train/143.jpg\n",
            "/content/sample_data/train/101.jpg\n",
            "/content/sample_data/train/99.jpg\n",
            "/content/sample_data/train/305.jpg\n",
            "/content/sample_data/train/166.jpg\n",
            "/content/sample_data/train/309.jpg\n",
            "/content/sample_data/train/250.jpg\n",
            "/content/sample_data/train/181.jpg\n",
            "/content/sample_data/train/413.jpg\n",
            "/content/sample_data/train/268.jpg\n",
            "/content/sample_data/train/314.jpg\n",
            "/content/sample_data/train/85.jpg\n",
            "/content/sample_data/train/177.jpg\n",
            "/content/sample_data/train/344.jpg\n",
            "/content/sample_data/train/331.jpg\n",
            "/content/sample_data/train/68.jpg\n",
            "/content/sample_data/train/308.jpg\n",
            "/content/sample_data/train/483.jpg\n",
            "/content/sample_data/train/469.jpg\n",
            "/content/sample_data/train/88.jpg\n",
            "/content/sample_data/train/46.jpg\n",
            "/content/sample_data/train/118.jpg\n",
            "/content/sample_data/train/29.jpg\n",
            "/content/sample_data/train/350.jpg\n",
            "/content/sample_data/train/39.jpg\n",
            "/content/sample_data/train/255.jpg\n",
            "/content/sample_data/train/329.jpg\n",
            "/content/sample_data/train/427.jpg\n",
            "/content/sample_data/train/74.jpg\n",
            "/content/sample_data/train/325.jpg\n",
            "/content/sample_data/train/218.jpg\n",
            "/content/sample_data/train/54.jpg\n",
            "/content/sample_data/train/103.jpg\n",
            "/content/sample_data/train/293.jpg\n",
            "/content/sample_data/train/321.jpg\n",
            "/content/sample_data/train/63.jpg\n",
            "/content/sample_data/train/141.jpg\n",
            "/content/sample_data/train/352.jpg\n",
            "/content/sample_data/train/480.jpg\n",
            "/content/sample_data/train/423.jpg\n",
            "/content/sample_data/train/453.jpg\n",
            "/content/sample_data/train/259.jpg\n",
            "/content/sample_data/train/234.jpg\n",
            "/content/sample_data/train/422.jpg\n",
            "/content/sample_data/train/91.jpg\n",
            "/content/sample_data/train/433.jpg\n",
            "/content/sample_data/train/53.jpg\n",
            "/content/sample_data/train/426.jpg\n",
            "/content/sample_data/train/214.jpg\n",
            "/content/sample_data/train/299.jpg\n",
            "/content/sample_data/train/486.jpg\n",
            "/content/sample_data/train/163.jpg\n",
            "/content/sample_data/train/436.jpg\n",
            "/content/sample_data/train/225.jpg\n",
            "/content/sample_data/train/294.jpg\n",
            "/content/sample_data/train/243.jpg\n",
            "/content/sample_data/train/22.jpg\n",
            "/content/sample_data/train/351.jpg\n",
            "/content/sample_data/train/105.jpg\n",
            "/content/sample_data/train/154.jpg\n",
            "/content/sample_data/train/420.jpg\n",
            "/content/sample_data/train/377.jpg\n",
            "/content/sample_data/train/100.jpg\n",
            "/content/sample_data/train/186.jpg\n",
            "/content/sample_data/train/515.jpg\n",
            "/content/sample_data/train/3.jpg\n",
            "/content/sample_data/train/443.jpg\n",
            "/content/sample_data/train/409.jpg\n",
            "/content/sample_data/train/412.jpg\n",
            "/content/sample_data/train/300.jpg\n",
            "/content/sample_data/train/176.jpg\n",
            "/content/sample_data/train/336.jpg\n",
            "/content/sample_data/train/491.jpg\n",
            "/content/sample_data/train/121.jpg\n",
            "/content/sample_data/train/347.jpg\n",
            "/content/sample_data/train/474.jpg\n",
            "/content/sample_data/train/504.jpg\n",
            "/content/sample_data/train/2.jpg\n",
            "/content/sample_data/train/281.jpg\n",
            "/content/sample_data/train/191.jpg\n",
            "/content/sample_data/train/136.jpg\n",
            "/content/sample_data/train/262.jpg\n",
            "/content/sample_data/train/62.jpg\n",
            "/content/sample_data/train/468.jpg\n",
            "/content/sample_data/train/241.jpg\n",
            "/content/sample_data/train/371.jpg\n",
            "/content/sample_data/train/367.jpg\n",
            "/content/sample_data/train/131.jpg\n",
            "/content/sample_data/train/276.jpg\n",
            "/content/sample_data/train/399.jpg\n",
            "/content/sample_data/train/445.jpg\n",
            "/content/sample_data/train/334.jpg\n",
            "/content/sample_data/train/228.jpg\n",
            "/content/sample_data/train/402.jpg\n",
            "/content/sample_data/train/442.jpg\n",
            "/content/sample_data/train/165.jpg\n",
            "/content/sample_data/train/266.jpg\n",
            "/content/sample_data/train/204.jpg\n",
            "/content/sample_data/train/311.jpg\n",
            "/content/sample_data/train/149.jpg\n",
            "/content/sample_data/train/47.jpg\n",
            "/content/sample_data/train/462.jpg\n",
            "/content/sample_data/train/89.jpg\n",
            "/content/sample_data/train/161.jpg\n",
            "/content/sample_data/train/446.jpg\n",
            "/content/sample_data/train/497.jpg\n",
            "/content/sample_data/train/90.jpg\n",
            "/content/sample_data/train/415.jpg\n",
            "/content/sample_data/train/32.jpg\n",
            "/content/sample_data/train/83.jpg\n",
            "/content/sample_data/train/341.jpg\n",
            "/content/sample_data/train/254.jpg\n",
            "/content/sample_data/train/201.jpg\n",
            "/content/sample_data/train/328.jpg\n",
            "/content/sample_data/train/137.jpg\n",
            "/content/sample_data/train/277.jpg\n",
            "/content/sample_data/train/199.jpg\n",
            "/content/sample_data/train/400.jpg\n",
            "/content/sample_data/train/396.jpg\n",
            "/content/sample_data/train/135.jpg\n",
            "/content/sample_data/train/190.jpg\n",
            "/content/sample_data/train/379.jpg\n",
            "/content/sample_data/train/126.jpg\n",
            "/content/sample_data/train/66.jpg\n",
            "/content/sample_data/train/326.jpg\n",
            "/content/sample_data/train/273.jpg\n",
            "/content/sample_data/train/187.jpg\n",
            "/content/sample_data/train/315.jpg\n",
            "/content/sample_data/train/444.jpg\n",
            "/content/sample_data/train/492.jpg\n",
            "/content/sample_data/train/249.jpg\n",
            "/content/sample_data/train/369.jpg\n",
            "/content/sample_data/train/455.jpg\n",
            "/content/sample_data/train/76.jpg\n",
            "/content/sample_data/train/391.jpg\n",
            "/content/sample_data/train/500.jpg\n",
            "/content/sample_data/train/489.jpg\n",
            "/content/sample_data/train/355.jpg\n",
            "/content/sample_data/train/70.jpg\n",
            "/content/sample_data/train/343.jpg\n",
            "/content/sample_data/train/251.jpg\n",
            "/content/sample_data/train/106.jpg\n",
            "/content/sample_data/train/408.jpg\n",
            "/content/sample_data/train/337.jpg\n",
            "/content/sample_data/train/304.jpg\n",
            "/content/sample_data/train/140.jpg\n",
            "/content/sample_data/train/519.jpg\n",
            "/content/sample_data/train/240.jpg\n",
            "/content/sample_data/train/397.jpg\n",
            "/content/sample_data/train/203.jpg\n",
            "/content/sample_data/train/279.jpg\n",
            "/content/sample_data/train/81.jpg\n",
            "/content/sample_data/train/172.jpg\n",
            "/content/sample_data/train/322.jpg\n",
            "/content/sample_data/train/516.jpg\n",
            "/content/sample_data/train/73.jpg\n",
            "/content/sample_data/train/230.jpg\n",
            "/content/sample_data/train/227.jpg\n",
            "/content/sample_data/train/242.jpg\n",
            "/content/sample_data/train/8.jpg\n",
            "/content/sample_data/train/244.jpg\n",
            "/content/sample_data/train/235.jpg\n",
            "/content/sample_data/train/65.jpg\n",
            "/content/sample_data/train/476.jpg\n",
            "/content/sample_data/train/221.jpg\n",
            "/content/sample_data/train/434.jpg\n",
            "/content/sample_data/train/10.jpg\n",
            "/content/sample_data/train/42.jpg\n",
            "/content/sample_data/train/77.jpg\n",
            "/content/sample_data/train/72.jpg\n",
            "/content/sample_data/train/120.jpg\n",
            "/content/sample_data/train/160.jpg\n",
            "/content/sample_data/train/19.jpg\n",
            "/content/sample_data/train/213.jpg\n",
            "/content/sample_data/train/124.jpg\n",
            "/content/sample_data/train/267.jpg\n",
            "/content/sample_data/train/449.jpg\n",
            "/content/sample_data/train/153.jpg\n",
            "/content/sample_data/train/139.jpg\n",
            "/content/sample_data/train/111.jpg\n",
            "/content/sample_data/train/134.jpg\n",
            "/content/sample_data/train/49.jpg\n",
            "/content/sample_data/train/144.jpg\n",
            "/content/sample_data/train/21.jpg\n",
            "/content/sample_data/train/430.jpg\n",
            "/content/sample_data/train/364.jpg\n",
            "/content/sample_data/train/93.jpg\n",
            "/content/sample_data/train/466.jpg\n",
            "/content/sample_data/train/490.jpg\n",
            "/content/sample_data/train/368.jpg\n",
            "/content/sample_data/train/494.jpg\n",
            "/content/sample_data/train/5.jpg\n",
            "/content/sample_data/train/496.jpg\n",
            "/content/sample_data/train/303.jpg\n",
            "/content/sample_data/train/287.jpg\n",
            "/content/sample_data/train/178.jpg\n",
            "/content/sample_data/train/312.jpg\n",
            "/content/sample_data/train/388.jpg\n",
            "/content/sample_data/train/84.jpg\n",
            "/content/sample_data/train/342.jpg\n",
            "/content/sample_data/train/223.jpg\n",
            "/content/sample_data/train/488.jpg\n",
            "/content/sample_data/train/60.jpg\n",
            "/content/sample_data/train/212.jpg\n",
            "/content/sample_data/train/310.jpg\n",
            "/content/sample_data/train/307.jpg\n",
            "/content/sample_data/train/404.jpg\n",
            "/content/sample_data/train/27.jpg\n",
            "/content/sample_data/train/501.jpg\n",
            "/content/sample_data/train/261.jpg\n",
            "/content/sample_data/train/16.jpg\n",
            "/content/sample_data/train/512.jpg\n",
            "/content/sample_data/train/432.jpg\n",
            "/content/sample_data/train/478.jpg\n",
            "/content/sample_data/train/493.jpg\n",
            "/content/sample_data/train/231.jpg\n",
            "/content/sample_data/train/464.jpg\n",
            "/content/sample_data/train/211.jpg\n",
            "/content/sample_data/train/222.jpg\n",
            "/content/sample_data/train/265.jpg\n",
            "/content/sample_data/train/405.jpg\n",
            "/content/sample_data/train/87.jpg\n",
            "/content/sample_data/train/345.jpg\n",
            "/content/sample_data/train/94.jpg\n",
            "/content/sample_data/train/69.jpg\n",
            "/content/sample_data/train/513.jpg\n",
            "/content/sample_data/train/356.jpg\n",
            "/content/sample_data/train/58.jpg\n",
            "/content/sample_data/train/362.jpg\n",
            "/content/sample_data/train/18.jpg\n",
            "/content/sample_data/train/472.jpg\n",
            "/content/sample_data/train/50.jpg\n",
            "/content/sample_data/train/113.jpg\n",
            "/content/sample_data/train/78.jpg\n",
            "/content/sample_data/train/450.jpg\n",
            "/content/sample_data/train/320.jpg\n",
            "/content/sample_data/train/353.jpg\n",
            "/content/sample_data/train/425.jpg\n",
            "/content/sample_data/train/102.jpg\n",
            "/content/sample_data/train/219.jpg\n",
            "/content/sample_data/train/296.jpg\n",
            "/content/sample_data/train/403.jpg\n",
            "/content/sample_data/train/44.jpg\n",
            "/content/sample_data/train/36.jpg\n",
            "/content/sample_data/train/252.jpg\n",
            "/content/sample_data/train/288.jpg\n",
            "/content/sample_data/train/502.jpg\n",
            "/content/sample_data/train/245.jpg\n",
            "/content/sample_data/train/25.jpg\n",
            "/content/sample_data/train/258.jpg\n",
            "/content/sample_data/train/481.jpg\n",
            "/content/sample_data/train/104.jpg\n",
            "/content/sample_data/train/79.jpg\n",
            "/content/sample_data/train/511.jpg\n",
            "/content/sample_data/train/209.jpg\n",
            "/content/sample_data/train/115.jpg\n",
            "/content/sample_data/train/1.jpg\n",
            "/content/sample_data/train/454.jpg\n",
            "/content/sample_data/train/383.jpg\n",
            "/content/sample_data/train/475.jpg\n",
            "/content/sample_data/train/192.jpg\n",
            "/content/sample_data/train/197.jpg\n",
            "/content/sample_data/train/167.jpg\n",
            "/content/sample_data/train/298.jpg\n",
            "/content/sample_data/train/233.jpg\n",
            "/content/sample_data/train/335.jpg\n",
            "/content/sample_data/train/56.jpg\n",
            "/content/sample_data/train/180.jpg\n",
            "/content/sample_data/train/272.jpg\n",
            "/content/sample_data/train/96.jpg\n",
            "/content/sample_data/train/419.jpg\n",
            "/content/sample_data/train/107.jpg\n",
            "/content/sample_data/train/382.jpg\n",
            "/content/sample_data/train/499.jpg\n",
            "/content/sample_data/train/395.jpg\n",
            "/content/sample_data/train/435.jpg\n",
            "/content/sample_data/train/451.jpg\n",
            "/content/sample_data/train/52.jpg\n",
            "/content/sample_data/train/182.jpg\n",
            "/content/sample_data/train/164.jpg\n",
            "/content/sample_data/train/82.jpg\n",
            "/content/sample_data/train/313.jpg\n",
            "/content/sample_data/train/253.jpg\n",
            "/content/sample_data/train/151.jpg\n",
            "/content/sample_data/train/503.jpg\n",
            "/content/sample_data/train/229.jpg\n",
            "/content/sample_data/train/289.jpg\n",
            "/content/sample_data/train/169.jpg\n",
            "/content/sample_data/train/148.jpg\n",
            "/content/sample_data/train/428.jpg\n",
            "/content/sample_data/train/339.jpg\n",
            "/content/sample_data/train/236.jpg\n",
            "/content/sample_data/train/477.jpg\n",
            "/content/sample_data/train/12.jpg\n",
            "/content/sample_data/train/26.jpg\n",
            "/content/sample_data/train/372.jpg\n",
            "/content/sample_data/train/75.jpg\n",
            "/content/sample_data/train/109.jpg\n",
            "/content/sample_data/train/260.jpg\n",
            "/content/sample_data/train/509.jpg\n",
            "/content/sample_data/train/116.jpg\n",
            "/content/sample_data/train/359.jpg\n",
            "/content/sample_data/train/406.jpg\n",
            "/content/sample_data/train/7.jpg\n",
            "/content/sample_data/train/393.jpg\n",
            "/content/sample_data/train/208.jpg\n",
            "/content/sample_data/train/122.jpg\n",
            "/content/sample_data/train/156.jpg\n",
            "/content/sample_data/train/205.jpg\n",
            "/content/sample_data/train/155.jpg\n",
            "/content/sample_data/train/43.jpg\n",
            "/content/sample_data/train/319.jpg\n",
            "/content/sample_data/train/471.jpg\n",
            "/content/sample_data/train/142.jpg\n",
            "/content/sample_data/train/381.jpg\n",
            "/content/sample_data/train/370.jpg\n",
            "/content/sample_data/train/174.jpg\n",
            "/content/sample_data/train/133.jpg\n",
            "/content/sample_data/train/248.jpg\n",
            "/content/sample_data/train/365.jpg\n",
            "/content/sample_data/train/338.jpg\n",
            "/content/sample_data/train/98.jpg\n"
          ],
          "name": "stdout"
        }
      ]
    },
    {
      "cell_type": "code",
      "metadata": {
        "id": "6lzHdt2Oh6-1",
        "colab_type": "code",
        "colab": {
          "base_uri": "https://localhost:8080/",
          "height": 70
        },
        "outputId": "4014f281-c8ac-4ecf-fb4a-61a85ecc1ffc"
      },
      "source": [
        "import numpy as np\n",
        "import pandas as pd \n",
        "import matplotlib.pyplot as plt\n",
        "import seaborn as sns\n",
        "import tensorflow as tf\n",
        "from tensorflow import keras\n",
        "import os\n",
        "import random\n",
        "from shutil import copyfile"
      ],
      "execution_count": 7,
      "outputs": [
        {
          "output_type": "stream",
          "text": [
            "/usr/local/lib/python3.6/dist-packages/statsmodels/tools/_testing.py:19: FutureWarning: pandas.util.testing is deprecated. Use the functions in the public API at pandas.testing instead.\n",
            "  import pandas.util.testing as tm\n"
          ],
          "name": "stderr"
        }
      ]
    },
    {
      "cell_type": "code",
      "metadata": {
        "id": "NOgQVVCSh7ny",
        "colab_type": "code",
        "colab": {}
      },
      "source": [
        "train_dir = '/content/sample_data/train/'\n",
        "test_dir = '/content/sample_data/test/'\n",
        "train_csv = pd.read_csv(r'/content/sample_data/train.csv')\n",
        "test_csv = pd.read_csv(r'/content/sample_data/test.csv')"
      ],
      "execution_count": 0,
      "outputs": []
    },
    {
      "cell_type": "code",
      "metadata": {
        "id": "56bc0yKIiwxk",
        "colab_type": "code",
        "colab": {}
      },
      "source": [
        "os.mkdir(r'/content/sample_data/identify-dance-form')\n",
        "os.mkdir(r'/content/sample_data/identify-dance-form/training')\n",
        "os.mkdir(r'/content/sample_data/identify-dance-form/testing')\n",
        "os.mkdir(r'/content/sample_data/identify-dance-form/source')\n",
        "os.mkdir(r'/content/sample_data/identify-dance-form/training/manipuri')\n",
        "os.mkdir(r'/content/sample_data/identify-dance-form/testing/manipuri')\n",
        "os.mkdir(r'/content/sample_data/identify-dance-form/source/manipuri')\n",
        "os.mkdir(r'/content/sample_data/identify-dance-form/training/bharatanatyam')\n",
        "os.mkdir(r'/content/sample_data/identify-dance-form/testing/bharatanatyam')\n",
        "os.mkdir(r'/content/sample_data/identify-dance-form/source/bharatanatyam')\n",
        "os.mkdir(r'/content/sample_data/identify-dance-form/training/odissi')\n",
        "os.mkdir(r'/content/sample_data/identify-dance-form/testing/odissi')\n",
        "os.mkdir(r'/content/sample_data/identify-dance-form/source/odissi')\n",
        "os.mkdir(r'/content/sample_data/identify-dance-form/training/kathakali')\n",
        "os.mkdir(r'/content/sample_data/identify-dance-form/testing/kathakali')\n",
        "os.mkdir(r'/content/sample_data/identify-dance-form/source/kathakali')\n",
        "os.mkdir(r'/content/sample_data/identify-dance-form/training/kathak')\n",
        "os.mkdir(r'/content/sample_data/identify-dance-form/testing/kathak')\n",
        "os.mkdir(r'/content/sample_data/identify-dance-form/source/kathak')\n",
        "os.mkdir(r'/content/sample_data/identify-dance-form/training/sattriya')\n",
        "os.mkdir(r'/content/sample_data/identify-dance-form/testing/sattriya')\n",
        "os.mkdir(r'/content/sample_data/identify-dance-form/source/sattriya')\n",
        "os.mkdir(r'/content/sample_data/identify-dance-form/training/kuchipudi')\n",
        "os.mkdir(r'/content/sample_data/identify-dance-form/testing/kuchipudi')\n",
        "os.mkdir(r'/content/sample_data/identify-dance-form/source/kuchipudi')\n",
        "os.mkdir(r'/content/sample_data/identify-dance-form/training/mohiniyattam')\n",
        "os.mkdir(r'/content/sample_data/identify-dance-form/testing/mohiniyattam')\n",
        "os.mkdir(r'/content/sample_data/identify-dance-form/source/mohiniyattam')\n",
        "os.mkdir('/content/sample_data/identify-dance-form/tests')\n",
        "os.mkdir('/content/sample_data/identify-dance-form/tests/unknown')"
      ],
      "execution_count": 0,
      "outputs": []
    },
    {
      "cell_type": "code",
      "metadata": {
        "id": "iiaoUIzAi0cn",
        "colab_type": "code",
        "colab": {}
      },
      "source": [
        "files = []\n",
        "for  r, d, f in os.walk(train_dir):\n",
        "    for file in f:\n",
        "        if '.jpg' in file:\n",
        "            files.append(file)"
      ],
      "execution_count": 0,
      "outputs": []
    },
    {
      "cell_type": "code",
      "metadata": {
        "id": "316S8QCWi0e8",
        "colab_type": "code",
        "colab": {
          "base_uri": "https://localhost:8080/",
          "height": 54
        },
        "outputId": "3feffd48-4c46-4920-dfeb-588ad7164cff"
      },
      "source": [
        "print(files)"
      ],
      "execution_count": 11,
      "outputs": [
        {
          "output_type": "stream",
          "text": [
            "['384.jpg', '257.jpg', '389.jpg', '31.jpg', '418.jpg', '407.jpg', '188.jpg', '127.jpg', '184.jpg', '179.jpg', '417.jpg', '459.jpg', '158.jpg', '295.jpg', '130.jpg', '168.jpg', '361.jpg', '282.jpg', '123.jpg', '15.jpg', '159.jpg', '37.jpg', '117.jpg', '51.jpg', '263.jpg', '207.jpg', '357.jpg', '195.jpg', '30.jpg', '24.jpg', '4.jpg', '327.jpg', '452.jpg', '274.jpg', '387.jpg', '247.jpg', '376.jpg', '237.jpg', '333.jpg', '297.jpg', '348.jpg', '185.jpg', '143.jpg', '101.jpg', '99.jpg', '305.jpg', '166.jpg', '309.jpg', '250.jpg', '181.jpg', '413.jpg', '268.jpg', '314.jpg', '85.jpg', '177.jpg', '344.jpg', '331.jpg', '68.jpg', '308.jpg', '483.jpg', '469.jpg', '88.jpg', '46.jpg', '118.jpg', '29.jpg', '350.jpg', '39.jpg', '255.jpg', '329.jpg', '427.jpg', '74.jpg', '325.jpg', '218.jpg', '54.jpg', '103.jpg', '293.jpg', '321.jpg', '63.jpg', '141.jpg', '352.jpg', '480.jpg', '423.jpg', '453.jpg', '259.jpg', '234.jpg', '422.jpg', '91.jpg', '433.jpg', '53.jpg', '426.jpg', '214.jpg', '299.jpg', '486.jpg', '163.jpg', '436.jpg', '225.jpg', '294.jpg', '243.jpg', '22.jpg', '351.jpg', '105.jpg', '154.jpg', '420.jpg', '377.jpg', '100.jpg', '186.jpg', '515.jpg', '3.jpg', '443.jpg', '409.jpg', '412.jpg', '300.jpg', '176.jpg', '336.jpg', '491.jpg', '121.jpg', '347.jpg', '474.jpg', '504.jpg', '2.jpg', '281.jpg', '191.jpg', '136.jpg', '262.jpg', '62.jpg', '468.jpg', '241.jpg', '371.jpg', '367.jpg', '131.jpg', '276.jpg', '399.jpg', '445.jpg', '334.jpg', '228.jpg', '402.jpg', '442.jpg', '165.jpg', '266.jpg', '204.jpg', '311.jpg', '149.jpg', '47.jpg', '462.jpg', '89.jpg', '161.jpg', '446.jpg', '497.jpg', '90.jpg', '415.jpg', '32.jpg', '83.jpg', '341.jpg', '254.jpg', '201.jpg', '328.jpg', '137.jpg', '277.jpg', '199.jpg', '400.jpg', '396.jpg', '135.jpg', '190.jpg', '379.jpg', '126.jpg', '66.jpg', '326.jpg', '273.jpg', '187.jpg', '315.jpg', '444.jpg', '492.jpg', '249.jpg', '369.jpg', '455.jpg', '76.jpg', '391.jpg', '500.jpg', '489.jpg', '355.jpg', '70.jpg', '343.jpg', '251.jpg', '106.jpg', '408.jpg', '337.jpg', '304.jpg', '140.jpg', '519.jpg', '240.jpg', '397.jpg', '203.jpg', '279.jpg', '81.jpg', '172.jpg', '322.jpg', '516.jpg', '73.jpg', '230.jpg', '227.jpg', '242.jpg', '8.jpg', '244.jpg', '235.jpg', '65.jpg', '476.jpg', '221.jpg', '434.jpg', '10.jpg', '42.jpg', '77.jpg', '72.jpg', '120.jpg', '160.jpg', '19.jpg', '213.jpg', '124.jpg', '267.jpg', '449.jpg', '153.jpg', '139.jpg', '111.jpg', '134.jpg', '49.jpg', '144.jpg', '21.jpg', '430.jpg', '364.jpg', '93.jpg', '466.jpg', '490.jpg', '368.jpg', '494.jpg', '5.jpg', '496.jpg', '303.jpg', '287.jpg', '178.jpg', '312.jpg', '388.jpg', '84.jpg', '342.jpg', '223.jpg', '488.jpg', '60.jpg', '212.jpg', '310.jpg', '307.jpg', '404.jpg', '27.jpg', '501.jpg', '261.jpg', '16.jpg', '512.jpg', '432.jpg', '478.jpg', '493.jpg', '231.jpg', '464.jpg', '211.jpg', '222.jpg', '265.jpg', '405.jpg', '87.jpg', '345.jpg', '94.jpg', '69.jpg', '513.jpg', '356.jpg', '58.jpg', '362.jpg', '18.jpg', '472.jpg', '50.jpg', '113.jpg', '78.jpg', '450.jpg', '320.jpg', '353.jpg', '425.jpg', '102.jpg', '219.jpg', '296.jpg', '403.jpg', '44.jpg', '36.jpg', '252.jpg', '288.jpg', '502.jpg', '245.jpg', '25.jpg', '258.jpg', '481.jpg', '104.jpg', '79.jpg', '511.jpg', '209.jpg', '115.jpg', '1.jpg', '454.jpg', '383.jpg', '475.jpg', '192.jpg', '197.jpg', '167.jpg', '298.jpg', '233.jpg', '335.jpg', '56.jpg', '180.jpg', '272.jpg', '96.jpg', '419.jpg', '107.jpg', '382.jpg', '499.jpg', '395.jpg', '435.jpg', '451.jpg', '52.jpg', '182.jpg', '164.jpg', '82.jpg', '313.jpg', '253.jpg', '151.jpg', '503.jpg', '229.jpg', '289.jpg', '169.jpg', '148.jpg', '428.jpg', '339.jpg', '236.jpg', '477.jpg', '12.jpg', '26.jpg', '372.jpg', '75.jpg', '109.jpg', '260.jpg', '509.jpg', '116.jpg', '359.jpg', '406.jpg', '7.jpg', '393.jpg', '208.jpg', '122.jpg', '156.jpg', '205.jpg', '155.jpg', '43.jpg', '319.jpg', '471.jpg', '142.jpg', '381.jpg', '370.jpg', '174.jpg', '133.jpg', '248.jpg', '365.jpg', '338.jpg', '98.jpg']\n"
          ],
          "name": "stdout"
        }
      ]
    },
    {
      "cell_type": "code",
      "metadata": {
        "id": "mwln9Fp0i0ho",
        "colab_type": "code",
        "colab": {
          "base_uri": "https://localhost:8080/",
          "height": 286
        },
        "outputId": "9e2dc776-d6a8-4e30-b931-d6b5b6ebd143"
      },
      "source": [
        "import matplotlib.image as mpimg\n",
        "plt.imshow(mpimg.imread(os.path.join(train_dir,files[0])))"
      ],
      "execution_count": 14,
      "outputs": [
        {
          "output_type": "execute_result",
          "data": {
            "text/plain": [
              "<matplotlib.image.AxesImage at 0x7f2c5cf42c18>"
            ]
          },
          "metadata": {
            "tags": []
          },
          "execution_count": 14
        },
        {
          "output_type": "display_data",
          "data": {
            "image/png": "[encoded data removed]",
            "text/plain": [
              "<Figure size 432x288 with 1 Axes>"
            ]
          },
          "metadata": {
            "tags": [],
            "needs_background": "light"
          }
        }
      ]
    },
    {
      "cell_type": "code",
      "metadata": {
        "id": "dq7frXhxi0jW",
        "colab_type": "code",
        "colab": {}
      },
      "source": [
        "for x in files:\n",
        "    if (train_csv[train_csv['Image'] == x]['target'] == 'odissi').bool():\n",
        "        train_temp = os.path.join(train_dir,x)\n",
        "        final_train = os.path.join('/content/sample_data/identify-dance-form/source/odissi/',x)\n",
        "        copyfile(train_temp, final_train)\n",
        "    elif (train_csv[train_csv['Image'] == x]['target'] == 'manipuri').bool():\n",
        "        train_temp = os.path.join(train_dir,x)\n",
        "        final_train = os.path.join('/content/sample_data/identify-dance-form/source/manipuri/',x)\n",
        "        copyfile(train_temp, final_train)\n",
        "    elif (train_csv[train_csv['Image'] == x]['target'] == 'bharatanatyam').bool():\n",
        "        train_temp = os.path.join(train_dir,x)\n",
        "        final_train = os.path.join('/content/sample_data/identify-dance-form/source/bharatanatyam/',x)\n",
        "        copyfile(train_temp, final_train)\n",
        "    elif (train_csv[train_csv['Image'] == x]['target'] == 'kathakali').bool():\n",
        "        train_temp = os.path.join(train_dir,x)\n",
        "        final_train = os.path.join('/content/sample_data/identify-dance-form/source/kathakali/',x)\n",
        "        copyfile(train_temp, final_train)\n",
        "    elif (train_csv[train_csv['Image'] == x]['target'] == 'kathak').bool():\n",
        "        train_temp = os.path.join(train_dir,x)\n",
        "        final_train = os.path.join('/content/sample_data/identify-dance-form/source/kathak/',x)\n",
        "        copyfile(train_temp, final_train)\n",
        "    elif (train_csv[train_csv['Image'] == x]['target'] == 'sattriya').bool():\n",
        "        train_temp = os.path.join(train_dir,x)\n",
        "        final_train = os.path.join('/content/sample_data/identify-dance-form/source/sattriya/',x)\n",
        "        copyfile(train_temp, final_train)\n",
        "    elif (train_csv[train_csv['Image'] == x]['target'] == 'kuchipudi').bool():\n",
        "        train_temp = os.path.join(train_dir,x)\n",
        "        final_train = os.path.join('/content/sample_data/identify-dance-form/source/kuchipudi/',x)\n",
        "        copyfile(train_temp, final_train)\n",
        "    elif (train_csv[train_csv['Image'] == x]['target'] == 'mohiniyattam').bool():\n",
        "        train_temp = os.path.join(train_dir,x)\n",
        "        final_train = os.path.join('/content/sample_data/identify-dance-form/source/mohiniyattam/',x)\n",
        "        copyfile(train_temp, final_train)"
      ],
      "execution_count": 0,
      "outputs": []
    },
    {
      "cell_type": "code",
      "metadata": {
        "id": "bi1LyFXhi0po",
        "colab_type": "code",
        "colab": {}
      },
      "source": [
        "def split_data(SOURCE, TRAINING, TESTING, SPLIT_SIZE):\n",
        "    shuffle=random.sample(os.listdir(SOURCE),len(os.listdir(SOURCE)))\n",
        "    train_data_length=int(len(os.listdir(SOURCE))*SPLIT_SIZE)\n",
        "    test_data_length=int(len(os.listdir(SOURCE))-train_data_length)\n",
        "    train_data=shuffle[0:train_data_length]\n",
        "    test_data=shuffle[-test_data_length:]\n",
        "    for x in train_data:\n",
        "        train_temp=os.path.join(SOURCE,x)\n",
        "        final_train=os.path.join(TRAINING,x)\n",
        "        copyfile(train_temp,final_train)\n",
        "    for x in test_data:\n",
        "        test_temp=os.path.join(SOURCE,x)\n",
        "        final_test=os.path.join(TESTING,x)\n",
        "        copyfile(test_temp,final_test)"
      ],
      "execution_count": 0,
      "outputs": []
    },
    {
      "cell_type": "code",
      "metadata": {
        "id": "qQZG0bS8i0s0",
        "colab_type": "code",
        "colab": {}
      },
      "source": [
        "bhatanatyam_source_dir = '/content/sample_data/identify-dance-form/source/bharatanatyam/'\n",
        "bhatanatyam_training_dir = '/content/sample_data/identify-dance-form/training/bharatanatyam/'\n",
        "bhatanatyam_testing_dir = '/content/sample_data/identify-dance-form/testing/bharatanatyam/'\n",
        "\n",
        "kathak_source_dir = '/content/sample_data/identify-dance-form/source/kathak/'\n",
        "kathak_training_dir = '/content/sample_data/identify-dance-form/training/kathak/'\n",
        "kathak_testing_dir = '/content/sample_data/identify-dance-form/testing/kathak/'\n",
        "\n",
        "kathakali_source_dir = '/content/sample_data/identify-dance-form/source/kathakali/'\n",
        "kathakali_training_dir = '/content/sample_data/identify-dance-form/training/kathakali/'\n",
        "kathakali_testing_dir = '/content/sample_data/identify-dance-form/testing/kathakali/'\n",
        "\n",
        "kuchipudi_source_dir = '/content/sample_data/identify-dance-form/source/kuchipudi/'\n",
        "kuchipudi_training_dir = '/content/sample_data/identify-dance-form/training/kuchipudi/'\n",
        "kuchipudi_testing_dir = '/content/sample_data/identify-dance-form/testing/kuchipudi/'\n",
        "\n",
        "manipuri_source_dir = '/content/sample_data/identify-dance-form/source/manipuri/'\n",
        "manipuri_training_dir = '/content/sample_data/identify-dance-form/training/manipuri/'\n",
        "manipuri_testing_dir = '/content/sample_data/identify-dance-form/testing/manipuri/'\n",
        "\n",
        "mohiniyattam_source_dir = '/content/sample_data/identify-dance-form/source/mohiniyattam/'\n",
        "mohiniyattam_training_dir = '/content/sample_data/identify-dance-form/training/mohiniyattam/'\n",
        "mohiniyattam_testing_dir = '/content/sample_data/identify-dance-form/testing/mohiniyattam/'\n",
        "\n",
        "odissi_source_dir = '/content/sample_data/identify-dance-form/source/odissi/'\n",
        "odissi_training_dir = '/content/sample_data/identify-dance-form/training/odissi/'\n",
        "odissi_testing_dir = '/content/sample_data/identify-dance-form/testing/odissi/'\n",
        "\n",
        "sattriya_source_dir = '/content/sample_data/identify-dance-form/source/sattriya/'\n",
        "sattriya_training_dir = '/content/sample_data/identify-dance-form/training/sattriya/'\n",
        "sattriya_testing_dir = '/content/sample_data/identify-dance-form/testing/sattriya/'"
      ],
      "execution_count": 0,
      "outputs": []
    },
    {
      "cell_type": "code",
      "metadata": {
        "id": "chjh_yWSi0xN",
        "colab_type": "code",
        "colab": {}
      },
      "source": [
        "split_size = 0.85\n",
        "split_data(bhatanatyam_source_dir, bhatanatyam_training_dir, bhatanatyam_testing_dir, split_size)\n",
        "split_data(sattriya_source_dir, sattriya_training_dir, sattriya_testing_dir, split_size)\n",
        "split_data(odissi_source_dir, odissi_training_dir, odissi_testing_dir, split_size)\n",
        "split_data(mohiniyattam_source_dir, mohiniyattam_training_dir, mohiniyattam_testing_dir, split_size)\n",
        "split_data(manipuri_source_dir, manipuri_training_dir, manipuri_testing_dir, split_size)\n",
        "split_data(kuchipudi_source_dir, kuchipudi_training_dir, kuchipudi_testing_dir, split_size)\n",
        "split_data(kathakali_source_dir, kathakali_training_dir, kathakali_testing_dir, split_size)\n",
        "split_data(kathak_source_dir, kathak_training_dir, kathak_testing_dir, split_size)"
      ],
      "execution_count": 0,
      "outputs": []
    },
    {
      "cell_type": "code",
      "metadata": {
        "id": "wdCHwPrai0z3",
        "colab_type": "code",
        "colab": {
          "base_uri": "https://localhost:8080/",
          "height": 790
        },
        "outputId": "81c7488d-e596-4106-91ec-48648e2c8593"
      },
      "source": [
        "pre_trained_model.summary()"
      ],
      "execution_count": 20,
      "outputs": [
        {
          "output_type": "stream",
          "text": [
            "Model: \"vgg16\"\n",
            "_________________________________________________________________\n",
            "Layer (type)                 Output Shape              Param #   \n",
            "=================================================================\n",
            "input_1 (InputLayer)         [(None, 156, 156, 3)]     0         \n",
            "_________________________________________________________________\n",
            "block1_conv1 (Conv2D)        (None, 156, 156, 64)      1792      \n",
            "_________________________________________________________________\n",
            "block1_conv2 (Conv2D)        (None, 156, 156, 64)      36928     \n",
            "_________________________________________________________________\n",
            "block1_pool (MaxPooling2D)   (None, 78, 78, 64)        0         \n",
            "_________________________________________________________________\n",
            "block2_conv1 (Conv2D)        (None, 78, 78, 128)       73856     \n",
            "_________________________________________________________________\n",
            "block2_conv2 (Conv2D)        (None, 78, 78, 128)       147584    \n",
            "_________________________________________________________________\n",
            "block2_pool (MaxPooling2D)   (None, 39, 39, 128)       0         \n",
            "_________________________________________________________________\n",
            "block3_conv1 (Conv2D)        (None, 39, 39, 256)       295168    \n",
            "_________________________________________________________________\n",
            "block3_conv2 (Conv2D)        (None, 39, 39, 256)       590080    \n",
            "_________________________________________________________________\n",
            "block3_conv3 (Conv2D)        (None, 39, 39, 256)       590080    \n",
            "_________________________________________________________________\n",
            "block3_pool (MaxPooling2D)   (None, 19, 19, 256)       0         \n",
            "_________________________________________________________________\n",
            "block4_conv1 (Conv2D)        (None, 19, 19, 512)       1180160   \n",
            "_________________________________________________________________\n",
            "block4_conv2 (Conv2D)        (None, 19, 19, 512)       2359808   \n",
            "_________________________________________________________________\n",
            "block4_conv3 (Conv2D)        (None, 19, 19, 512)       2359808   \n",
            "_________________________________________________________________\n",
            "block4_pool (MaxPooling2D)   (None, 9, 9, 512)         0         \n",
            "_________________________________________________________________\n",
            "block5_conv1 (Conv2D)        (None, 9, 9, 512)         2359808   \n",
            "_________________________________________________________________\n",
            "block5_conv2 (Conv2D)        (None, 9, 9, 512)         2359808   \n",
            "_________________________________________________________________\n",
            "block5_conv3 (Conv2D)        (None, 9, 9, 512)         2359808   \n",
            "_________________________________________________________________\n",
            "block5_pool (MaxPooling2D)   (None, 4, 4, 512)         0         \n",
            "=================================================================\n",
            "Total params: 14,714,688\n",
            "Trainable params: 14,714,688\n",
            "Non-trainable params: 0\n",
            "_________________________________________________________________\n"
          ],
          "name": "stdout"
        }
      ]
    },
    {
      "cell_type": "code",
      "metadata": {
        "id": "8qqgNwlQi04D",
        "colab_type": "code",
        "colab": {
          "base_uri": "https://localhost:8080/",
          "height": 34
        },
        "outputId": "7dd0c276-cf87-460b-e95b-ff61bf8524b8"
      },
      "source": [
        "pre_trained_model.trainable = True\n",
        "\n",
        "print(len(pre_trained_model.layers))"
      ],
      "execution_count": 21,
      "outputs": [
        {
          "output_type": "stream",
          "text": [
            "19\n"
          ],
          "name": "stdout"
        }
      ]
    },
    {
      "cell_type": "code",
      "metadata": {
        "id": "6KcJsOddi077",
        "colab_type": "code",
        "colab": {}
      },
      "source": [
        "fine_tune_at = 17\n",
        "for layer in pre_trained_model.layers[:fine_tune_at]:\n",
        "    layer.trainable = False"
      ],
      "execution_count": 0,
      "outputs": []
    },
    {
      "cell_type": "code",
      "metadata": {
        "id": "7eF_uSm_i02P",
        "colab_type": "code",
        "colab": {}
      },
      "source": [
        "last_output = pre_trained_model.output"
      ],
      "execution_count": 0,
      "outputs": []
    },
    {
      "cell_type": "code",
      "metadata": {
        "id": "LSgXCd1Pi0vl",
        "colab_type": "code",
        "colab": {}
      },
      "source": [
        "x = tf.keras.layers.Flatten()(last_output)\n",
        "x = tf.keras.layers.Dense(1024, activation = 'relu')(x)\n",
        "x = tf.keras.layers.Dropout(0.5)(x)\n",
        "x = tf.keras.layers.Dense(8, activation = 'softmax')(x)"
      ],
      "execution_count": 0,
      "outputs": []
    },
    {
      "cell_type": "code",
      "metadata": {
        "id": "WmyWIQ-Fi0rD",
        "colab_type": "code",
        "colab": {}
      },
      "source": [
        "model = tf.keras.Model(pre_trained_model.input, x)"
      ],
      "execution_count": 0,
      "outputs": []
    },
    {
      "cell_type": "code",
      "metadata": {
        "id": "OdONllIFlkyO",
        "colab_type": "code",
        "colab": {
          "base_uri": "https://localhost:8080/",
          "height": 924
        },
        "outputId": "d8e2b02a-9ce5-4fc6-d9c7-0ce7fc537a82"
      },
      "source": [
        "model.summary()"
      ],
      "execution_count": 84,
      "outputs": [
        {
          "output_type": "stream",
          "text": [
            "Model: \"model_3\"\n",
            "_________________________________________________________________\n",
            "Layer (type)                 Output Shape              Param #   \n",
            "=================================================================\n",
            "input_2 (InputLayer)         [(None, 156, 156, 3)]     0         \n",
            "_________________________________________________________________\n",
            "block1_conv1 (Conv2D)        (None, 156, 156, 64)      1792      \n",
            "_________________________________________________________________\n",
            "block1_conv2 (Conv2D)        (None, 156, 156, 64)      36928     \n",
            "_________________________________________________________________\n",
            "block1_pool (MaxPooling2D)   (None, 78, 78, 64)        0         \n",
            "_________________________________________________________________\n",
            "block2_conv1 (Conv2D)        (None, 78, 78, 128)       73856     \n",
            "_________________________________________________________________\n",
            "block2_conv2 (Conv2D)        (None, 78, 78, 128)       147584    \n",
            "_________________________________________________________________\n",
            "block2_pool (MaxPooling2D)   (None, 39, 39, 128)       0         \n",
            "_________________________________________________________________\n",
            "block3_conv1 (Conv2D)        (None, 39, 39, 256)       295168    \n",
            "_________________________________________________________________\n",
            "block3_conv2 (Conv2D)        (None, 39, 39, 256)       590080    \n",
            "_________________________________________________________________\n",
            "block3_conv3 (Conv2D)        (None, 39, 39, 256)       590080    \n",
            "_________________________________________________________________\n",
            "block3_pool (MaxPooling2D)   (None, 19, 19, 256)       0         \n",
            "_________________________________________________________________\n",
            "block4_conv1 (Conv2D)        (None, 19, 19, 512)       1180160   \n",
            "_________________________________________________________________\n",
            "block4_conv2 (Conv2D)        (None, 19, 19, 512)       2359808   \n",
            "_________________________________________________________________\n",
            "block4_conv3 (Conv2D)        (None, 19, 19, 512)       2359808   \n",
            "_________________________________________________________________\n",
            "block4_pool (MaxPooling2D)   (None, 9, 9, 512)         0         \n",
            "_________________________________________________________________\n",
            "block5_conv1 (Conv2D)        (None, 9, 9, 512)         2359808   \n",
            "_________________________________________________________________\n",
            "block5_conv2 (Conv2D)        (None, 9, 9, 512)         2359808   \n",
            "_________________________________________________________________\n",
            "block5_conv3 (Conv2D)        (None, 9, 9, 512)         2359808   \n",
            "_________________________________________________________________\n",
            "block5_pool (MaxPooling2D)   (None, 4, 4, 512)         0         \n",
            "_________________________________________________________________\n",
            "flatten_3 (Flatten)          (None, 8192)              0         \n",
            "_________________________________________________________________\n",
            "dense_6 (Dense)              (None, 1024)              8389632   \n",
            "_________________________________________________________________\n",
            "dropout_3 (Dropout)          (None, 1024)              0         \n",
            "_________________________________________________________________\n",
            "dense_7 (Dense)              (None, 8)                 8200      \n",
            "=================================================================\n",
            "Total params: 23,112,520\n",
            "Trainable params: 10,757,640\n",
            "Non-trainable params: 12,354,880\n",
            "_________________________________________________________________\n"
          ],
          "name": "stdout"
        }
      ]
    },
    {
      "cell_type": "code",
      "metadata": {
        "id": "rb3FX8iSltpE",
        "colab_type": "code",
        "colab": {
          "base_uri": "https://localhost:8080/",
          "height": 50
        },
        "outputId": "d8037a79-8e74-4a80-9c4d-1a22eecf7b59"
      },
      "source": [
        "from tensorflow.keras.preprocessing.image import ImageDataGenerator\n",
        "TRAINING_DIR = \"/content/sample_data/identify-dance-form/training\"\n",
        "train_datagen = ImageDataGenerator(rescale=1./255,\n",
        "                                  rotation_range=20,\n",
        "                                  width_shift_range=0.2,\n",
        "                                  height_shift_range=0.2,\n",
        "                                  shear_range=0.1,\n",
        "                                  zoom_range=0.2,\n",
        "                                  horizontal_flip=True,\n",
        "                                  fill_mode='nearest')\n",
        "\n",
        "\n",
        "train_generator = train_datagen.flow_from_directory(TRAINING_DIR,\n",
        "                                                   target_size=(156,156),\n",
        "                                                   color_mode = 'rgb',\n",
        "                                                   batch_size=32,\n",
        "                                                   class_mode='categorical')\n",
        "\n",
        "VALIDATION_DIR = \"/content/sample_data/identify-dance-form/testing\"\n",
        "validation_datagen = ImageDataGenerator(rescale=1./255)\n",
        "\n",
        "\n",
        "validation_generator = validation_datagen.flow_from_directory(VALIDATION_DIR,\n",
        "                                                   target_size=(156,156),\n",
        "                                                   color_mode = 'rgb',\n",
        "                                                   batch_size=32,\n",
        "                                                   class_mode='categorical')"
      ],
      "execution_count": 85,
      "outputs": [
        {
          "output_type": "stream",
          "text": [
            "Found 305 images belonging to 8 classes.\n",
            "Found 59 images belonging to 8 classes.\n"
          ],
          "name": "stdout"
        }
      ]
    },
    {
      "cell_type": "code",
      "metadata": {
        "id": "s5tNe4awl_Vt",
        "colab_type": "code",
        "colab": {}
      },
      "source": [
        "model.compile(tf.keras.optimizers.Adam(), loss='categorical_crossentropy', metrics=['acc'])"
      ],
      "execution_count": 0,
      "outputs": []
    },
    {
      "cell_type": "code",
      "metadata": {
        "id": "o3R1u0-JmETK",
        "colab_type": "code",
        "colab": {
          "base_uri": "https://localhost:8080/",
          "height": 890
        },
        "outputId": "79daf583-81a5-4e6b-b50b-3d62dcbcf425"
      },
      "source": [
        "learning_rate_reduction = tf.keras.callbacks.ReduceLROnPlateau(monitor='val_acc', \n",
        "                                            patience=3, \n",
        "                                            verbose=1, \n",
        "                                            factor=0.5, \n",
        "                                            min_lr=0.00001)\n",
        "history = model.fit_generator(train_generator,\n",
        "                              epochs=20,\n",
        "                              verbose=1,\n",
        "                              validation_data=validation_generator,\n",
        "                             callbacks = [learning_rate_reduction])"
      ],
      "execution_count": 87,
      "outputs": [
        {
          "output_type": "stream",
          "text": [
            "Epoch 1/20\n",
            "10/10 [==============================] - 5s 478ms/step - loss: 2.0795 - acc: 0.1180 - val_loss: 2.0792 - val_acc: 0.1356 - lr: 0.0010\n",
            "Epoch 2/20\n",
            "10/10 [==============================] - 4s 443ms/step - loss: 2.0793 - acc: 0.1148 - val_loss: 2.0790 - val_acc: 0.1356 - lr: 0.0010\n",
            "Epoch 3/20\n",
            "10/10 [==============================] - 5s 462ms/step - loss: 2.0791 - acc: 0.1344 - val_loss: 2.0789 - val_acc: 0.1356 - lr: 0.0010\n",
            "Epoch 4/20\n",
            "10/10 [==============================] - ETA: 0s - loss: 2.0789 - acc: 0.1344\n",
            "Epoch 00004: ReduceLROnPlateau reducing learning rate to 0.0005000000237487257.\n",
            "10/10 [==============================] - 5s 472ms/step - loss: 2.0789 - acc: 0.1344 - val_loss: 2.0788 - val_acc: 0.1356 - lr: 0.0010\n",
            "Epoch 5/20\n",
            "10/10 [==============================] - 5s 450ms/step - loss: 2.0788 - acc: 0.1344 - val_loss: 2.0787 - val_acc: 0.1356 - lr: 5.0000e-04\n",
            "Epoch 6/20\n",
            "10/10 [==============================] - 5s 467ms/step - loss: 2.0788 - acc: 0.1311 - val_loss: 2.0786 - val_acc: 0.1356 - lr: 5.0000e-04\n",
            "Epoch 7/20\n",
            "10/10 [==============================] - ETA: 0s - loss: 2.0787 - acc: 0.1377\n",
            "Epoch 00007: ReduceLROnPlateau reducing learning rate to 0.0002500000118743628.\n",
            "10/10 [==============================] - 5s 451ms/step - loss: 2.0787 - acc: 0.1377 - val_loss: 2.0786 - val_acc: 0.1356 - lr: 5.0000e-04\n",
            "Epoch 8/20\n",
            "10/10 [==============================] - 5s 467ms/step - loss: 2.0786 - acc: 0.1377 - val_loss: 2.0786 - val_acc: 0.1356 - lr: 2.5000e-04\n",
            "Epoch 9/20\n",
            "10/10 [==============================] - 5s 462ms/step - loss: 2.0786 - acc: 0.1344 - val_loss: 2.0785 - val_acc: 0.1356 - lr: 2.5000e-04\n",
            "Epoch 10/20\n",
            "10/10 [==============================] - ETA: 0s - loss: 2.0785 - acc: 0.1377\n",
            "Epoch 00010: ReduceLROnPlateau reducing learning rate to 0.0001250000059371814.\n",
            "10/10 [==============================] - 4s 442ms/step - loss: 2.0785 - acc: 0.1377 - val_loss: 2.0784 - val_acc: 0.1356 - lr: 2.5000e-04\n",
            "Epoch 11/20\n",
            "10/10 [==============================] - 4s 449ms/step - loss: 2.0784 - acc: 0.1377 - val_loss: 2.0784 - val_acc: 0.1356 - lr: 1.2500e-04\n",
            "Epoch 12/20\n",
            "10/10 [==============================] - 4s 441ms/step - loss: 2.0784 - acc: 0.1377 - val_loss: 2.0783 - val_acc: 0.1356 - lr: 1.2500e-04\n",
            "Epoch 13/20\n",
            "10/10 [==============================] - ETA: 0s - loss: 2.0784 - acc: 0.1377\n",
            "Epoch 00013: ReduceLROnPlateau reducing learning rate to 6.25000029685907e-05.\n",
            "10/10 [==============================] - 4s 415ms/step - loss: 2.0784 - acc: 0.1377 - val_loss: 2.0783 - val_acc: 0.1356 - lr: 1.2500e-04\n",
            "Epoch 14/20\n",
            "10/10 [==============================] - 4s 417ms/step - loss: 2.0783 - acc: 0.1377 - val_loss: 2.0783 - val_acc: 0.1356 - lr: 6.2500e-05\n",
            "Epoch 15/20\n",
            "10/10 [==============================] - 4s 407ms/step - loss: 2.0783 - acc: 0.1377 - val_loss: 2.0783 - val_acc: 0.1356 - lr: 6.2500e-05\n",
            "Epoch 16/20\n",
            "10/10 [==============================] - ETA: 0s - loss: 2.0783 - acc: 0.1377\n",
            "Epoch 00016: ReduceLROnPlateau reducing learning rate to 3.125000148429535e-05.\n",
            "10/10 [==============================] - 5s 466ms/step - loss: 2.0783 - acc: 0.1377 - val_loss: 2.0783 - val_acc: 0.1356 - lr: 6.2500e-05\n",
            "Epoch 17/20\n",
            "10/10 [==============================] - 4s 429ms/step - loss: 2.0783 - acc: 0.1377 - val_loss: 2.0782 - val_acc: 0.1356 - lr: 3.1250e-05\n",
            "Epoch 18/20\n",
            "10/10 [==============================] - 4s 445ms/step - loss: 2.0783 - acc: 0.1377 - val_loss: 2.0782 - val_acc: 0.1356 - lr: 3.1250e-05\n",
            "Epoch 19/20\n",
            "10/10 [==============================] - ETA: 0s - loss: 2.0783 - acc: 0.1377\n",
            "Epoch 00019: ReduceLROnPlateau reducing learning rate to 1.5625000742147677e-05.\n",
            "10/10 [==============================] - 5s 452ms/step - loss: 2.0783 - acc: 0.1377 - val_loss: 2.0782 - val_acc: 0.1356 - lr: 3.1250e-05\n",
            "Epoch 20/20\n",
            "10/10 [==============================] - 4s 445ms/step - loss: 2.0783 - acc: 0.1377 - val_loss: 2.0782 - val_acc: 0.1356 - lr: 1.5625e-05\n"
          ],
          "name": "stdout"
        }
      ]
    },
    {
      "cell_type": "code",
      "metadata": {
        "id": "iwA3JM6imEbp",
        "colab_type": "code",
        "colab": {}
      },
      "source": [
        "fil = []\n",
        "for  r, d, f in os.walk(test_dir):\n",
        "    for file in f:\n",
        "        if '.jpg' in file:\n",
        "            fil.append(file)"
      ],
      "execution_count": 0,
      "outputs": []
    },
    {
      "cell_type": "code",
      "metadata": {
        "id": "HGkC5ATJmEYO",
        "colab_type": "code",
        "colab": {
          "base_uri": "https://localhost:8080/",
          "height": 54
        },
        "outputId": "0c066560-f298-4c3e-8352-ffa06f35c6b0"
      },
      "source": [
        "print(fil)"
      ],
      "execution_count": 35,
      "outputs": [
        {
          "output_type": "stream",
          "text": [
            "['59.jpg', '232.jpg', '194.jpg', '410.jpg', '437.jpg', '346.jpg', '129.jpg', '448.jpg', '360.jpg', '508.jpg', '416.jpg', '269.jpg', '349.jpg', '256.jpg', '518.jpg', '290.jpg', '479.jpg', '373.jpg', '286.jpg', '414.jpg', '411.jpg', '196.jpg', '239.jpg', '189.jpg', '520.jpg', '429.jpg', '220.jpg', '97.jpg', '138.jpg', '210.jpg', '175.jpg', '193.jpg', '61.jpg', '20.jpg', '11.jpg', '114.jpg', '421.jpg', '323.jpg', '38.jpg', '198.jpg', '86.jpg', '202.jpg', '152.jpg', '292.jpg', '306.jpg', '401.jpg', '498.jpg', '506.jpg', '71.jpg', '330.jpg', '95.jpg', '112.jpg', '324.jpg', '157.jpg', '441.jpg', '17.jpg', '358.jpg', '378.jpg', '460.jpg', '146.jpg', '9.jpg', '301.jpg', '119.jpg', '374.jpg', '440.jpg', '470.jpg', '394.jpg', '316.jpg', '398.jpg', '467.jpg', '363.jpg', '366.jpg', '431.jpg', '170.jpg', '461.jpg', '215.jpg', '224.jpg', '270.jpg', '473.jpg', '507.jpg', '463.jpg', '302.jpg', '283.jpg', '28.jpg', '238.jpg', '517.jpg', '23.jpg', '380.jpg', '173.jpg', '183.jpg', '171.jpg', '57.jpg', '41.jpg', '392.jpg', '447.jpg', '147.jpg', '439.jpg', '271.jpg', '456.jpg', '485.jpg', '34.jpg', '487.jpg', '385.jpg', '35.jpg', '318.jpg', '150.jpg', '80.jpg', '278.jpg', '375.jpg', '354.jpg', '226.jpg', '55.jpg', '458.jpg', '14.jpg', '67.jpg', '132.jpg', '291.jpg', '438.jpg', '275.jpg', '465.jpg', '280.jpg', '246.jpg', '145.jpg', '206.jpg', '484.jpg', '6.jpg', '110.jpg', '390.jpg', '216.jpg', '285.jpg', '125.jpg', '495.jpg', '13.jpg', '217.jpg', '264.jpg', '505.jpg', '92.jpg', '40.jpg', '424.jpg', '162.jpg', '128.jpg', '317.jpg', '332.jpg', '482.jpg', '514.jpg', '45.jpg', '510.jpg', '108.jpg', '340.jpg', '200.jpg', '386.jpg', '457.jpg', '64.jpg', '48.jpg', '33.jpg', '284.jpg']\n"
          ],
          "name": "stdout"
        }
      ]
    },
    {
      "cell_type": "code",
      "metadata": {
        "id": "VB6VUMagnTmI",
        "colab_type": "code",
        "colab": {
          "base_uri": "https://localhost:8080/",
          "height": 286
        },
        "outputId": "073d2d1b-838b-4b9c-bb2e-d1bacbc40972"
      },
      "source": [
        "plt.imshow(mpimg.imread(os.path.join(test_dir,fil[0])))"
      ],
      "execution_count": 36,
      "outputs": [
        {
          "output_type": "execute_result",
          "data": {
            "text/plain": [
              "<matplotlib.image.AxesImage at 0x7f2c5be2cbe0>"
            ]
          },
          "metadata": {
            "tags": []
          },
          "execution_count": 36
        },
        {
          "output_type": "display_data",
          "data": {
            "image/png": "[encoded data removed]",
            "text/plain": [
              "<Figure size 432x288 with 1 Axes>"
            ]
          },
          "metadata": {
            "tags": [],
            "needs_background": "light"
          }
        }
      ]
    },
    {
      "cell_type": "code",
      "metadata": {
        "id": "XfMPemaKneGi",
        "colab_type": "code",
        "colab": {}
      },
      "source": [
        "for x in fil:\n",
        "    train_temp = os.path.join(test_dir,x)\n",
        "    final_train = os.path.join('/content/sample_data/identify-dance-form/tests/unknown',x)\n",
        "    copyfile(train_temp, final_train)"
      ],
      "execution_count": 0,
      "outputs": []
    },
    {
      "cell_type": "code",
      "metadata": {
        "id": "wV3ibmZ8nghh",
        "colab_type": "code",
        "colab": {
          "base_uri": "https://localhost:8080/",
          "height": 34
        },
        "outputId": "d249d3ba-25b8-4ab8-ef75-d7cfc1da6297"
      },
      "source": [
        "tests_dir = '/content/sample_data/identify-dance-form/tests'\n",
        "test_datagen = ImageDataGenerator(rescale = 1./255)\n",
        "test_generator = test_datagen.flow_from_directory(tests_dir,\n",
        "                                                  target_size = (156,156),\n",
        "                                                  color_mode = 'rgb',\n",
        "                                                  batch_size=32,\n",
        "                                                  class_mode=None,\n",
        "                                                  shuffle=False,\n",
        "                                                  seed=42)"
      ],
      "execution_count": 39,
      "outputs": [
        {
          "output_type": "stream",
          "text": [
            "Found 156 images belonging to 1 classes.\n"
          ],
          "name": "stdout"
        }
      ]
    },
    {
      "cell_type": "code",
      "metadata": {
        "id": "o9gbR69nnhNX",
        "colab_type": "code",
        "colab": {}
      },
      "source": [
        "img_list = []\n",
        "for x in test_generator.filenames:\n",
        "    x = x.split('/')[1]\n",
        "    img_list.append(x)"
      ],
      "execution_count": 0,
      "outputs": []
    },
    {
      "cell_type": "code",
      "metadata": {
        "id": "5P2F_7NsnhaS",
        "colab_type": "code",
        "colab": {
          "base_uri": "https://localhost:8080/",
          "height": 54
        },
        "outputId": "fc1cf233-f9fe-4d25-f6f6-ebd4bfd77bd8"
      },
      "source": [
        "print(img_list)"
      ],
      "execution_count": 41,
      "outputs": [
        {
          "output_type": "stream",
          "text": [
            "['108.jpg', '11.jpg', '110.jpg', '112.jpg', '114.jpg', '119.jpg', '125.jpg', '128.jpg', '129.jpg', '13.jpg', '132.jpg', '138.jpg', '14.jpg', '145.jpg', '146.jpg', '147.jpg', '150.jpg', '152.jpg', '157.jpg', '162.jpg', '17.jpg', '170.jpg', '171.jpg', '173.jpg', '175.jpg', '183.jpg', '189.jpg', '193.jpg', '194.jpg', '196.jpg', '198.jpg', '20.jpg', '200.jpg', '202.jpg', '206.jpg', '210.jpg', '215.jpg', '216.jpg', '217.jpg', '220.jpg', '224.jpg', '226.jpg', '23.jpg', '232.jpg', '238.jpg', '239.jpg', '246.jpg', '256.jpg', '264.jpg', '269.jpg', '270.jpg', '271.jpg', '275.jpg', '278.jpg', '28.jpg', '280.jpg', '283.jpg', '284.jpg', '285.jpg', '286.jpg', '290.jpg', '291.jpg', '292.jpg', '301.jpg', '302.jpg', '306.jpg', '316.jpg', '317.jpg', '318.jpg', '323.jpg', '324.jpg', '33.jpg', '330.jpg', '332.jpg', '34.jpg', '340.jpg', '346.jpg', '349.jpg', '35.jpg', '354.jpg', '358.jpg', '360.jpg', '363.jpg', '366.jpg', '373.jpg', '374.jpg', '375.jpg', '378.jpg', '38.jpg', '380.jpg', '385.jpg', '386.jpg', '390.jpg', '392.jpg', '394.jpg', '398.jpg', '40.jpg', '401.jpg', '41.jpg', '410.jpg', '411.jpg', '414.jpg', '416.jpg', '421.jpg', '424.jpg', '429.jpg', '431.jpg', '437.jpg', '438.jpg', '439.jpg', '440.jpg', '441.jpg', '447.jpg', '448.jpg', '45.jpg', '456.jpg', '457.jpg', '458.jpg', '460.jpg', '461.jpg', '463.jpg', '465.jpg', '467.jpg', '470.jpg', '473.jpg', '479.jpg', '48.jpg', '482.jpg', '484.jpg', '485.jpg', '487.jpg', '495.jpg', '498.jpg', '505.jpg', '506.jpg', '507.jpg', '508.jpg', '510.jpg', '514.jpg', '517.jpg', '518.jpg', '520.jpg', '55.jpg', '57.jpg', '59.jpg', '6.jpg', '61.jpg', '64.jpg', '67.jpg', '71.jpg', '80.jpg', '86.jpg', '9.jpg', '92.jpg', '95.jpg', '97.jpg']\n"
          ],
          "name": "stdout"
        }
      ]
    },
    {
      "cell_type": "code",
      "metadata": {
        "id": "FT8baYPsnhmg",
        "colab_type": "code",
        "colab": {
          "base_uri": "https://localhost:8080/",
          "height": 87
        },
        "outputId": "44a310af-2e72-4f0a-8399-51d63591c672"
      },
      "source": [
        "predictions = model.predict_generator(test_generator)"
      ],
      "execution_count": 42,
      "outputs": [
        {
          "output_type": "stream",
          "text": [
            "WARNING:tensorflow:From <ipython-input-42-9068eb02ed61>:1: Model.predict_generator (from tensorflow.python.keras.engine.training) is deprecated and will be removed in a future version.\n",
            "Instructions for updating:\n",
            "Please use Model.predict, which supports generators.\n"
          ],
          "name": "stdout"
        }
      ]
    },
    {
      "cell_type": "code",
      "metadata": {
        "id": "Wh81WSn6nhX6",
        "colab_type": "code",
        "colab": {}
      },
      "source": [
        "predicted_clases = np.argmax(predictions,axis=-1)"
      ],
      "execution_count": 0,
      "outputs": []
    },
    {
      "cell_type": "code",
      "metadata": {
        "id": "viLe1UnOnhWX",
        "colab_type": "code",
        "colab": {
          "base_uri": "https://localhost:8080/",
          "height": 151
        },
        "outputId": "a141b2f0-76c8-4bb6-fc25-e44b64b4d10d"
      },
      "source": [
        "predicted_clases"
      ],
      "execution_count": 49,
      "outputs": [
        {
          "output_type": "execute_result",
          "data": {
            "text/plain": [
              "array([4, 1, 4, 0, 3, 0, 3, 0, 0, 3, 3, 0, 1, 3, 6, 3, 1, 6, 3, 3, 1, 0,\n",
              "       0, 3, 1, 2, 2, 2, 2, 2, 2, 1, 2, 2, 2, 2, 2, 2, 2, 2, 2, 2, 1, 2,\n",
              "       2, 2, 3, 5, 6, 6, 4, 5, 3, 5, 1, 7, 5, 6, 1, 5, 5, 5, 5, 6, 5, 3,\n",
              "       7, 1, 7, 7, 7, 1, 7, 4, 1, 7, 3, 7, 1, 7, 7, 7, 4, 7, 3, 1, 5, 7,\n",
              "       1, 7, 3, 4, 3, 4, 6, 0, 1, 6, 1, 3, 1, 3, 7, 3, 3, 3, 4, 0, 3, 3,\n",
              "       3, 3, 6, 6, 1, 6, 6, 6, 6, 6, 6, 6, 7, 6, 0, 6, 5, 6, 6, 6, 6, 6,\n",
              "       6, 1, 3, 6, 3, 0, 6, 3, 6, 6, 1, 1, 2, 1, 0, 7, 1, 4, 4, 4, 1, 4,\n",
              "       4, 4])"
            ]
          },
          "metadata": {
            "tags": []
          },
          "execution_count": 49
        }
      ]
    },
    {
      "cell_type": "code",
      "metadata": {
        "id": "E7_LglzZnhRG",
        "colab_type": "code",
        "colab": {
          "base_uri": "https://localhost:8080/",
          "height": 151
        },
        "outputId": "525be7ef-11e9-4038-9a6a-637bad80eb30"
      },
      "source": [
        "train_generator.class_indices"
      ],
      "execution_count": 50,
      "outputs": [
        {
          "output_type": "execute_result",
          "data": {
            "text/plain": [
              "{'bharatanatyam': 0,\n",
              " 'kathak': 1,\n",
              " 'kathakali': 2,\n",
              " 'kuchipudi': 3,\n",
              " 'manipuri': 4,\n",
              " 'mohiniyattam': 5,\n",
              " 'odissi': 6,\n",
              " 'sattriya': 7}"
            ]
          },
          "metadata": {
            "tags": []
          },
          "execution_count": 50
        }
      ]
    },
    {
      "cell_type": "code",
      "metadata": {
        "id": "nBHabUrIoVj4",
        "colab_type": "code",
        "colab": {}
      },
      "source": [
        "data = {'Image': img_list, 'target': predicted_clases}"
      ],
      "execution_count": 0,
      "outputs": []
    },
    {
      "cell_type": "code",
      "metadata": {
        "id": "DP-Y-eHKoebf",
        "colab_type": "code",
        "colab": {
          "base_uri": "https://localhost:8080/",
          "height": 195
        },
        "outputId": "69da45e8-ac7e-46a6-f296-6a1bf1f3cd82"
      },
      "source": [
        "df = pd.DataFrame(data)\n",
        "df.head()"
      ],
      "execution_count": 52,
      "outputs": [
        {
          "output_type": "execute_result",
          "data": {
            "text/html": [
              "<div>\n",
              "<style scoped>\n",
              "    .dataframe tbody tr th:only-of-type {\n",
              "        vertical-align: middle;\n",
              "    }\n",
              "\n",
              "    .dataframe tbody tr th {\n",
              "        vertical-align: top;\n",
              "    }\n",
              "\n",
              "    .dataframe thead th {\n",
              "        text-align: right;\n",
              "    }\n",
              "</style>\n",
              "<table border=\"1\" class=\"dataframe\">\n",
              "  <thead>\n",
              "    <tr style=\"text-align: right;\">\n",
              "      <th></th>\n",
              "      <th>Image</th>\n",
              "      <th>target</th>\n",
              "    </tr>\n",
              "  </thead>\n",
              "  <tbody>\n",
              "    <tr>\n",
              "      <th>0</th>\n",
              "      <td>108.jpg</td>\n",
              "      <td>4</td>\n",
              "    </tr>\n",
              "    <tr>\n",
              "      <th>1</th>\n",
              "      <td>11.jpg</td>\n",
              "      <td>1</td>\n",
              "    </tr>\n",
              "    <tr>\n",
              "      <th>2</th>\n",
              "      <td>110.jpg</td>\n",
              "      <td>4</td>\n",
              "    </tr>\n",
              "    <tr>\n",
              "      <th>3</th>\n",
              "      <td>112.jpg</td>\n",
              "      <td>0</td>\n",
              "    </tr>\n",
              "    <tr>\n",
              "      <th>4</th>\n",
              "      <td>114.jpg</td>\n",
              "      <td>3</td>\n",
              "    </tr>\n",
              "  </tbody>\n",
              "</table>\n",
              "</div>"
            ],
            "text/plain": [
              "     Image  target\n",
              "0  108.jpg       4\n",
              "1   11.jpg       1\n",
              "2  110.jpg       4\n",
              "3  112.jpg       0\n",
              "4  114.jpg       3"
            ]
          },
          "metadata": {
            "tags": []
          },
          "execution_count": 52
        }
      ]
    },
    {
      "cell_type": "code",
      "metadata": {
        "id": "lbB0Tr9QogAy",
        "colab_type": "code",
        "colab": {}
      },
      "source": [
        "df['target']= df['target'].map({0: 'bharatanatyam',\n",
        "                                1: 'kathak',\n",
        "                                2: 'kathakali',\n",
        "                                3: 'kuchipudi',\n",
        "                                4: 'manipuri',\n",
        "                                5: 'mohiniyattam',\n",
        "                                6: 'odissi',\n",
        "                                7: 'sattriya'})"
      ],
      "execution_count": 0,
      "outputs": []
    },
    {
      "cell_type": "code",
      "metadata": {
        "id": "RHz00-K2ojF_",
        "colab_type": "code",
        "colab": {
          "base_uri": "https://localhost:8080/",
          "height": 195
        },
        "outputId": "a3e02d9c-dcbe-448e-8eb0-dfba7e9c3ce3"
      },
      "source": [
        "df.head()"
      ],
      "execution_count": 54,
      "outputs": [
        {
          "output_type": "execute_result",
          "data": {
            "text/html": [
              "<div>\n",
              "<style scoped>\n",
              "    .dataframe tbody tr th:only-of-type {\n",
              "        vertical-align: middle;\n",
              "    }\n",
              "\n",
              "    .dataframe tbody tr th {\n",
              "        vertical-align: top;\n",
              "    }\n",
              "\n",
              "    .dataframe thead th {\n",
              "        text-align: right;\n",
              "    }\n",
              "</style>\n",
              "<table border=\"1\" class=\"dataframe\">\n",
              "  <thead>\n",
              "    <tr style=\"text-align: right;\">\n",
              "      <th></th>\n",
              "      <th>Image</th>\n",
              "      <th>target</th>\n",
              "    </tr>\n",
              "  </thead>\n",
              "  <tbody>\n",
              "    <tr>\n",
              "      <th>0</th>\n",
              "      <td>108.jpg</td>\n",
              "      <td>manipuri</td>\n",
              "    </tr>\n",
              "    <tr>\n",
              "      <th>1</th>\n",
              "      <td>11.jpg</td>\n",
              "      <td>kathak</td>\n",
              "    </tr>\n",
              "    <tr>\n",
              "      <th>2</th>\n",
              "      <td>110.jpg</td>\n",
              "      <td>manipuri</td>\n",
              "    </tr>\n",
              "    <tr>\n",
              "      <th>3</th>\n",
              "      <td>112.jpg</td>\n",
              "      <td>bharatanatyam</td>\n",
              "    </tr>\n",
              "    <tr>\n",
              "      <th>4</th>\n",
              "      <td>114.jpg</td>\n",
              "      <td>kuchipudi</td>\n",
              "    </tr>\n",
              "  </tbody>\n",
              "</table>\n",
              "</div>"
            ],
            "text/plain": [
              "     Image         target\n",
              "0  108.jpg       manipuri\n",
              "1   11.jpg         kathak\n",
              "2  110.jpg       manipuri\n",
              "3  112.jpg  bharatanatyam\n",
              "4  114.jpg      kuchipudi"
            ]
          },
          "metadata": {
            "tags": []
          },
          "execution_count": 54
        }
      ]
    },
    {
      "cell_type": "code",
      "metadata": {
        "id": "f8C6XhupolVv",
        "colab_type": "code",
        "colab": {}
      },
      "source": [
        "df.to_csv(r'sub_dance.csv', index = False)"
      ],
      "execution_count": 0,
      "outputs": []
    },
    {
      "cell_type": "code",
      "metadata": {
        "id": "lasZ1qKeora-",
        "colab_type": "code",
        "colab": {}
      },
      "source": [
        ""
      ],
      "execution_count": 0,
      "outputs": []
    }
  ]
}